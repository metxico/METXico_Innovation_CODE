{
  "nbformat": 4,
  "nbformat_minor": 0,
  "metadata": {
    "colab": {
      "provenance": [],
      "authorship_tag": "ABX9TyOg/M5dG/nTSDrW9CnqzChG",
      "include_colab_link": true
    },
    "kernelspec": {
      "name": "python3",
      "display_name": "Python 3"
    },
    "language_info": {
      "name": "python"
    }
  },
  "cells": [
    {
      "cell_type": "markdown",
      "metadata": {
        "id": "view-in-github",
        "colab_type": "text"
      },
      "source": [
        "<a href=\"https://colab.research.google.com/github/metxico/METXico_Innovation_CODE/blob/main/INTEractive_UpSet_PLOT.ipynb\" target=\"_parent\"><img src=\"https://colab.research.google.com/assets/colab-badge.svg\" alt=\"Open In Colab\"/></a>"
      ]
    },
    {
      "cell_type": "code",
      "execution_count": 1,
      "metadata": {
        "colab": {
          "base_uri": "https://localhost:8080/"
        },
        "id": "u7DVmceNWMPq",
        "outputId": "ef124098-9cec-4238-ebfc-3bac74510c9e"
      },
      "outputs": [
        {
          "output_type": "stream",
          "name": "stdout",
          "text": [
            "Requirement already satisfied: plotly in /usr/local/lib/python3.10/dist-packages (5.24.1)\n",
            "Requirement already satisfied: tenacity>=6.2.0 in /usr/local/lib/python3.10/dist-packages (from plotly) (9.0.0)\n",
            "Requirement already satisfied: packaging in /usr/local/lib/python3.10/dist-packages (from plotly) (24.1)\n"
          ]
        }
      ],
      "source": [
        "!pip install plotly"
      ]
    },
    {
      "cell_type": "code",
      "source": [
        "import pandas as pd\n",
        "import plotly.express as px\n",
        "from google.colab import files"
      ],
      "metadata": {
        "id": "cUO1pxFTWRjs"
      },
      "execution_count": 2,
      "outputs": []
    },
    {
      "cell_type": "code",
      "source": [
        "uploaded = files.upload()\n",
        "file_path = next(iter(uploaded))\n",
        "data = pd.read_csv(file_path)"
      ],
      "metadata": {
        "colab": {
          "base_uri": "https://localhost:8080/",
          "height": 71
        },
        "id": "TE2sSAfVWah-",
        "outputId": "a8060189-9c0c-42fa-abce-de12d9a5e458"
      },
      "execution_count": 3,
      "outputs": [
        {
          "output_type": "display_data",
          "data": {
            "text/plain": [
              "<IPython.core.display.HTML object>"
            ],
            "text/html": [
              "\n",
              "     <input type=\"file\" id=\"files-1cbe45ea-4f93-42e2-a84b-79e293b3b2c5\" name=\"files[]\" multiple disabled\n",
              "        style=\"border:none\" />\n",
              "     <output id=\"result-1cbe45ea-4f93-42e2-a84b-79e293b3b2c5\">\n",
              "      Upload widget is only available when the cell has been executed in the\n",
              "      current browser session. Please rerun this cell to enable.\n",
              "      </output>\n",
              "      <script>// Copyright 2017 Google LLC\n",
              "//\n",
              "// Licensed under the Apache License, Version 2.0 (the \"License\");\n",
              "// you may not use this file except in compliance with the License.\n",
              "// You may obtain a copy of the License at\n",
              "//\n",
              "//      http://www.apache.org/licenses/LICENSE-2.0\n",
              "//\n",
              "// Unless required by applicable law or agreed to in writing, software\n",
              "// distributed under the License is distributed on an \"AS IS\" BASIS,\n",
              "// WITHOUT WARRANTIES OR CONDITIONS OF ANY KIND, either express or implied.\n",
              "// See the License for the specific language governing permissions and\n",
              "// limitations under the License.\n",
              "\n",
              "/**\n",
              " * @fileoverview Helpers for google.colab Python module.\n",
              " */\n",
              "(function(scope) {\n",
              "function span(text, styleAttributes = {}) {\n",
              "  const element = document.createElement('span');\n",
              "  element.textContent = text;\n",
              "  for (const key of Object.keys(styleAttributes)) {\n",
              "    element.style[key] = styleAttributes[key];\n",
              "  }\n",
              "  return element;\n",
              "}\n",
              "\n",
              "// Max number of bytes which will be uploaded at a time.\n",
              "const MAX_PAYLOAD_SIZE = 100 * 1024;\n",
              "\n",
              "function _uploadFiles(inputId, outputId) {\n",
              "  const steps = uploadFilesStep(inputId, outputId);\n",
              "  const outputElement = document.getElementById(outputId);\n",
              "  // Cache steps on the outputElement to make it available for the next call\n",
              "  // to uploadFilesContinue from Python.\n",
              "  outputElement.steps = steps;\n",
              "\n",
              "  return _uploadFilesContinue(outputId);\n",
              "}\n",
              "\n",
              "// This is roughly an async generator (not supported in the browser yet),\n",
              "// where there are multiple asynchronous steps and the Python side is going\n",
              "// to poll for completion of each step.\n",
              "// This uses a Promise to block the python side on completion of each step,\n",
              "// then passes the result of the previous step as the input to the next step.\n",
              "function _uploadFilesContinue(outputId) {\n",
              "  const outputElement = document.getElementById(outputId);\n",
              "  const steps = outputElement.steps;\n",
              "\n",
              "  const next = steps.next(outputElement.lastPromiseValue);\n",
              "  return Promise.resolve(next.value.promise).then((value) => {\n",
              "    // Cache the last promise value to make it available to the next\n",
              "    // step of the generator.\n",
              "    outputElement.lastPromiseValue = value;\n",
              "    return next.value.response;\n",
              "  });\n",
              "}\n",
              "\n",
              "/**\n",
              " * Generator function which is called between each async step of the upload\n",
              " * process.\n",
              " * @param {string} inputId Element ID of the input file picker element.\n",
              " * @param {string} outputId Element ID of the output display.\n",
              " * @return {!Iterable<!Object>} Iterable of next steps.\n",
              " */\n",
              "function* uploadFilesStep(inputId, outputId) {\n",
              "  const inputElement = document.getElementById(inputId);\n",
              "  inputElement.disabled = false;\n",
              "\n",
              "  const outputElement = document.getElementById(outputId);\n",
              "  outputElement.innerHTML = '';\n",
              "\n",
              "  const pickedPromise = new Promise((resolve) => {\n",
              "    inputElement.addEventListener('change', (e) => {\n",
              "      resolve(e.target.files);\n",
              "    });\n",
              "  });\n",
              "\n",
              "  const cancel = document.createElement('button');\n",
              "  inputElement.parentElement.appendChild(cancel);\n",
              "  cancel.textContent = 'Cancel upload';\n",
              "  const cancelPromise = new Promise((resolve) => {\n",
              "    cancel.onclick = () => {\n",
              "      resolve(null);\n",
              "    };\n",
              "  });\n",
              "\n",
              "  // Wait for the user to pick the files.\n",
              "  const files = yield {\n",
              "    promise: Promise.race([pickedPromise, cancelPromise]),\n",
              "    response: {\n",
              "      action: 'starting',\n",
              "    }\n",
              "  };\n",
              "\n",
              "  cancel.remove();\n",
              "\n",
              "  // Disable the input element since further picks are not allowed.\n",
              "  inputElement.disabled = true;\n",
              "\n",
              "  if (!files) {\n",
              "    return {\n",
              "      response: {\n",
              "        action: 'complete',\n",
              "      }\n",
              "    };\n",
              "  }\n",
              "\n",
              "  for (const file of files) {\n",
              "    const li = document.createElement('li');\n",
              "    li.append(span(file.name, {fontWeight: 'bold'}));\n",
              "    li.append(span(\n",
              "        `(${file.type || 'n/a'}) - ${file.size} bytes, ` +\n",
              "        `last modified: ${\n",
              "            file.lastModifiedDate ? file.lastModifiedDate.toLocaleDateString() :\n",
              "                                    'n/a'} - `));\n",
              "    const percent = span('0% done');\n",
              "    li.appendChild(percent);\n",
              "\n",
              "    outputElement.appendChild(li);\n",
              "\n",
              "    const fileDataPromise = new Promise((resolve) => {\n",
              "      const reader = new FileReader();\n",
              "      reader.onload = (e) => {\n",
              "        resolve(e.target.result);\n",
              "      };\n",
              "      reader.readAsArrayBuffer(file);\n",
              "    });\n",
              "    // Wait for the data to be ready.\n",
              "    let fileData = yield {\n",
              "      promise: fileDataPromise,\n",
              "      response: {\n",
              "        action: 'continue',\n",
              "      }\n",
              "    };\n",
              "\n",
              "    // Use a chunked sending to avoid message size limits. See b/62115660.\n",
              "    let position = 0;\n",
              "    do {\n",
              "      const length = Math.min(fileData.byteLength - position, MAX_PAYLOAD_SIZE);\n",
              "      const chunk = new Uint8Array(fileData, position, length);\n",
              "      position += length;\n",
              "\n",
              "      const base64 = btoa(String.fromCharCode.apply(null, chunk));\n",
              "      yield {\n",
              "        response: {\n",
              "          action: 'append',\n",
              "          file: file.name,\n",
              "          data: base64,\n",
              "        },\n",
              "      };\n",
              "\n",
              "      let percentDone = fileData.byteLength === 0 ?\n",
              "          100 :\n",
              "          Math.round((position / fileData.byteLength) * 100);\n",
              "      percent.textContent = `${percentDone}% done`;\n",
              "\n",
              "    } while (position < fileData.byteLength);\n",
              "  }\n",
              "\n",
              "  // All done.\n",
              "  yield {\n",
              "    response: {\n",
              "      action: 'complete',\n",
              "    }\n",
              "  };\n",
              "}\n",
              "\n",
              "scope.google = scope.google || {};\n",
              "scope.google.colab = scope.google.colab || {};\n",
              "scope.google.colab._files = {\n",
              "  _uploadFiles,\n",
              "  _uploadFilesContinue,\n",
              "};\n",
              "})(self);\n",
              "</script> "
            ]
          },
          "metadata": {}
        },
        {
          "output_type": "stream",
          "name": "stdout",
          "text": [
            "Saving OFBiofilm.csv to OFBiofilm.csv\n"
          ]
        }
      ]
    },
    {
      "cell_type": "code",
      "source": [
        "data_binary = data.drop(0).fillna(0)\n",
        "data_binary.iloc[:, 1:] = data_binary.iloc[:, 1:].replace({r'\\.': ''}, regex=True).applymap(\n",
        "    lambda x: 1 if float(x) > 0 else 0\n",
        ")"
      ],
      "metadata": {
        "colab": {
          "base_uri": "https://localhost:8080/"
        },
        "id": "-khXxb6CWg_9",
        "outputId": "27ef333d-1eb5-4cc1-f550-22f98d74b12e"
      },
      "execution_count": 4,
      "outputs": [
        {
          "output_type": "stream",
          "name": "stderr",
          "text": [
            "<ipython-input-4-4c926bbb0ebe>:2: FutureWarning: DataFrame.applymap has been deprecated. Use DataFrame.map instead.\n",
            "  data_binary.iloc[:, 1:] = data_binary.iloc[:, 1:].replace({r'\\.': ''}, regex=True).applymap(\n"
          ]
        }
      ]
    },
    {
      "cell_type": "code",
      "source": [
        "upset_data = data_binary.set_index(list(data_binary.columns[1:])).index.to_frame(index=False)\n",
        "upset_data = upset_data.groupby(list(data_binary.columns[1:])).size().reset_index(name='Count')"
      ],
      "metadata": {
        "id": "_hAM2RNMWktb"
      },
      "execution_count": 5,
      "outputs": []
    },
    {
      "cell_type": "code",
      "source": [
        "fig = px.bar(\n",
        "    upset_data,\n",
        "    x=upset_data.index,  # Eje X: combinaciones\n",
        "    y='Count',\n",
        "    hover_data=upset_data.columns[:-1],\n",
        "    title='Intersecciones de conjuntos interactivo',\n",
        "    labels={'x': 'Combinaciones de presencia/ausencia', 'Count': 'Cantidad'}\n",
        ")\n",
        "\n",
        "fig.update_layout(xaxis={'categoryorder': 'total descending'})\n",
        "fig.show()"
      ],
      "metadata": {
        "colab": {
          "base_uri": "https://localhost:8080/",
          "height": 542
        },
        "id": "D3vdnsCzWquC",
        "outputId": "f38e9730-9094-454a-8d7e-18eeed97678a"
      },
      "execution_count": 6,
      "outputs": [
        {
          "output_type": "display_data",
          "data": {
            "text/html": [
              "<html>\n",
              "<head><meta charset=\"utf-8\" /></head>\n",
              "<body>\n",
              "    <div>            <script src=\"https://cdnjs.cloudflare.com/ajax/libs/mathjax/2.7.5/MathJax.js?config=TeX-AMS-MML_SVG\"></script><script type=\"text/javascript\">if (window.MathJax && window.MathJax.Hub && window.MathJax.Hub.Config) {window.MathJax.Hub.Config({SVG: {font: \"STIX-Web\"}});}</script>                <script type=\"text/javascript\">window.PlotlyConfig = {MathJaxConfig: 'local'};</script>\n",
              "        <script charset=\"utf-8\" src=\"https://cdn.plot.ly/plotly-2.35.2.min.js\"></script>                <div id=\"34ee15bf-8e3b-4383-8720-3f0f5068ab77\" class=\"plotly-graph-div\" style=\"height:525px; width:100%;\"></div>            <script type=\"text/javascript\">                                    window.PLOTLYENV=window.PLOTLYENV || {};                                    if (document.getElementById(\"34ee15bf-8e3b-4383-8720-3f0f5068ab77\")) {                    Plotly.newPlot(                        \"34ee15bf-8e3b-4383-8720-3f0f5068ab77\",                        [{\"alignmentgroup\":\"True\",\"customdata\":[[0,0,0,0,0,0,0,0,0,0,0,0],[0,0,0,0,0,0,0,0,0,0,0,1],[0,0,0,0,0,0,0,0,0,0,1,0],[0,0,0,0,0,0,0,0,0,0,1,1],[0,0,0,0,0,0,0,0,0,1,0,1],[0,0,0,0,0,0,0,0,0,1,1,1],[0,0,0,0,0,0,0,0,1,0,0,0],[0,0,0,0,0,0,0,0,1,0,1,1],[0,0,0,0,0,0,0,1,0,0,1,0],[0,0,0,0,0,0,0,1,1,0,0,0],[0,0,0,0,0,0,0,1,1,0,0,1],[0,0,0,0,0,0,0,1,1,0,1,0],[0,0,0,0,0,0,1,0,0,0,0,0],[0,0,0,0,0,0,1,0,0,0,0,1],[0,0,0,0,0,0,1,0,0,0,1,1],[0,0,0,0,0,0,1,0,1,0,0,0],[0,0,0,0,0,0,1,1,0,0,1,1],[0,0,0,0,0,0,1,1,1,0,0,0],[0,0,0,0,0,0,1,1,1,0,0,1],[0,0,0,0,0,1,0,0,0,0,0,1],[0,0,0,0,0,1,0,0,1,0,0,0],[0,0,0,0,0,1,0,1,1,0,0,0],[0,0,0,0,0,1,0,1,1,0,0,1],[0,0,0,0,0,1,0,1,1,0,1,0],[0,0,0,0,0,1,0,1,1,1,0,0],[0,0,0,0,0,1,0,1,1,1,1,0],[0,0,0,0,0,1,1,0,1,0,0,0],[0,0,0,0,0,1,1,0,1,0,0,1],[0,0,0,0,0,1,1,1,0,0,1,1],[0,0,0,0,0,1,1,1,1,0,0,0],[0,0,0,0,0,1,1,1,1,0,0,1],[0,0,0,0,0,1,1,1,1,1,1,0],[0,0,0,0,0,1,1,1,1,1,1,1],[0,0,0,0,1,0,0,0,0,0,0,0],[0,0,0,0,1,0,0,0,0,0,0,1],[0,0,0,0,1,0,0,0,1,0,0,1],[0,0,0,0,1,0,0,0,1,0,1,1],[0,0,0,0,1,0,0,1,0,0,0,1],[0,0,0,0,1,0,1,0,0,0,0,1],[0,0,0,0,1,0,1,0,1,0,0,1],[0,0,0,0,1,1,0,1,1,0,0,0],[0,0,0,0,1,1,1,0,0,0,0,1],[0,0,0,0,1,1,1,1,0,0,0,0],[0,0,0,0,1,1,1,1,0,0,0,1],[0,0,0,0,1,1,1,1,1,0,0,0],[0,0,0,0,1,1,1,1,1,0,0,1],[0,0,0,0,1,1,1,1,1,0,1,1],[0,0,0,1,0,0,0,0,0,0,0,1],[0,0,0,1,0,0,0,0,0,0,1,1],[0,0,0,1,0,0,0,0,0,1,0,1],[0,0,0,1,0,0,0,1,1,0,0,0],[0,0,0,1,0,0,1,0,0,0,0,1],[0,0,0,1,0,0,1,0,0,0,1,1],[0,0,0,1,0,0,1,1,1,0,0,0],[0,0,0,1,0,1,0,0,0,0,0,0],[0,0,0,1,0,1,0,1,1,0,0,0],[0,0,0,1,0,1,0,1,1,0,0,1],[0,0,0,1,0,1,1,1,1,0,0,0],[0,0,0,1,0,1,1,1,1,0,0,1],[0,0,0,1,0,1,1,1,1,0,1,0],[0,0,0,1,0,1,1,1,1,1,0,0],[0,0,0,1,1,0,0,0,0,0,1,1],[0,0,0,1,1,0,1,0,0,0,0,1],[0,0,0,1,1,1,0,0,0,0,0,1],[0,0,0,1,1,1,1,1,1,0,0,1],[0,0,0,1,1,1,1,1,1,0,1,0],[0,0,1,0,0,0,0,0,0,0,0,0],[0,0,1,0,0,0,0,0,0,0,0,1],[0,0,1,0,0,0,0,0,0,0,1,0],[0,0,1,0,0,0,0,0,0,0,1,1],[0,0,1,0,0,0,1,0,0,0,0,0],[0,0,1,0,0,0,1,0,0,0,1,0],[0,0,1,0,0,0,1,0,1,0,0,1],[0,0,1,0,0,1,0,0,0,0,1,0],[0,0,1,0,0,1,0,0,1,0,0,1],[0,0,1,0,0,1,0,1,1,0,0,0],[0,0,1,0,0,1,0,1,1,0,0,1],[0,0,1,0,0,1,0,1,1,0,1,0],[0,0,1,0,0,1,1,1,1,0,0,0],[0,0,1,0,0,1,1,1,1,0,0,1],[0,0,1,0,0,1,1,1,1,0,1,1],[0,0,1,0,1,0,1,0,0,1,0,1],[0,0,1,0,1,0,1,1,0,0,1,1],[0,0,1,0,1,1,0,0,1,0,0,1],[0,0,1,0,1,1,1,0,0,0,0,1],[0,0,1,0,1,1,1,0,1,1,0,1],[0,0,1,0,1,1,1,1,0,0,0,1],[0,0,1,0,1,1,1,1,1,0,0,0],[0,0,1,0,1,1,1,1,1,0,1,0],[0,0,1,0,1,1,1,1,1,0,1,1],[0,0,1,0,1,1,1,1,1,1,1,1],[0,0,1,1,0,0,0,0,0,0,1,0],[0,0,1,1,0,0,0,0,0,0,1,1],[0,0,1,1,0,0,0,0,1,0,0,0],[0,0,1,1,0,0,0,0,1,0,1,0],[0,0,1,1,0,0,0,0,1,1,1,0],[0,0,1,1,0,0,0,1,0,0,1,0],[0,0,1,1,0,0,0,1,1,0,1,1],[0,0,1,1,0,0,1,0,0,0,1,1],[0,0,1,1,0,1,0,1,1,0,0,0],[0,0,1,1,0,1,0,1,1,0,1,0],[0,0,1,1,0,1,0,1,1,0,1,1],[0,0,1,1,0,1,1,0,0,0,1,1],[0,0,1,1,0,1,1,1,1,0,0,0],[0,0,1,1,0,1,1,1,1,0,0,1],[0,0,1,1,0,1,1,1,1,0,1,0],[0,0,1,1,0,1,1,1,1,0,1,1],[0,0,1,1,1,0,0,0,0,0,1,1],[0,0,1,1,1,0,0,0,1,0,1,1],[0,0,1,1,1,0,0,1,1,0,1,1],[0,0,1,1,1,0,1,0,1,0,1,1],[0,0,1,1,1,1,0,0,0,0,1,1],[0,0,1,1,1,1,0,1,1,0,0,0],[0,0,1,1,1,1,0,1,1,0,1,0],[0,0,1,1,1,1,0,1,1,0,1,1],[0,0,1,1,1,1,0,1,1,1,1,1],[0,0,1,1,1,1,1,1,1,0,0,0],[0,0,1,1,1,1,1,1,1,0,0,1],[0,0,1,1,1,1,1,1,1,0,1,0],[0,0,1,1,1,1,1,1,1,0,1,1],[0,1,0,0,0,0,0,0,0,0,0,0],[0,1,0,0,0,0,0,0,0,0,0,1],[0,1,0,0,0,0,0,0,0,0,1,1],[0,1,0,0,0,0,0,0,0,1,0,1],[0,1,0,0,0,0,0,0,0,1,1,0],[0,1,0,0,0,0,0,0,1,0,0,1],[0,1,0,0,0,0,0,1,0,0,0,0],[0,1,0,0,0,0,0,1,1,0,0,0],[0,1,0,0,0,0,1,0,0,0,0,1],[0,1,0,0,0,1,0,1,1,0,1,1],[0,1,0,0,0,1,1,0,0,1,0,0],[0,1,0,0,0,1,1,0,1,0,0,0],[0,1,0,0,0,1,1,1,1,0,0,0],[0,1,0,0,0,1,1,1,1,0,0,1],[0,1,0,0,0,1,1,1,1,0,1,1],[0,1,0,0,0,1,1,1,1,1,0,0],[0,1,0,0,1,0,0,0,0,0,0,1],[0,1,0,0,1,0,1,0,0,0,1,1],[0,1,0,0,1,0,1,0,1,0,0,1],[0,1,0,0,1,0,1,1,0,1,0,1],[0,1,0,0,1,1,0,1,1,0,1,1],[0,1,0,0,1,1,1,0,0,0,0,1],[0,1,0,0,1,1,1,1,1,0,0,1],[0,1,0,1,0,1,0,1,1,0,1,1],[0,1,0,1,0,1,1,1,1,0,0,0],[0,1,0,1,1,1,1,1,1,0,0,0],[0,1,0,1,1,1,1,1,1,0,0,1],[0,1,0,1,1,1,1,1,1,0,1,1],[0,1,0,1,1,1,1,1,1,1,1,1],[0,1,1,0,0,0,0,0,0,0,1,0],[0,1,1,0,0,1,1,1,1,0,0,1],[0,1,1,0,0,1,1,1,1,0,1,1],[0,1,1,0,1,0,1,0,0,1,0,1],[0,1,1,0,1,0,1,0,1,0,1,1],[0,1,1,0,1,1,0,1,1,0,1,1],[0,1,1,0,1,1,1,1,1,0,0,0],[0,1,1,0,1,1,1,1,1,0,0,1],[0,1,1,0,1,1,1,1,1,0,1,1],[0,1,1,1,0,1,0,1,1,0,0,0],[0,1,1,1,0,1,0,1,1,1,1,0],[0,1,1,1,0,1,1,1,1,0,0,0],[0,1,1,1,0,1,1,1,1,0,0,1],[0,1,1,1,0,1,1,1,1,0,1,0],[0,1,1,1,0,1,1,1,1,0,1,1],[0,1,1,1,1,1,0,1,1,0,1,1],[0,1,1,1,1,1,0,1,1,1,1,1],[0,1,1,1,1,1,1,1,1,0,0,1],[0,1,1,1,1,1,1,1,1,0,1,0],[0,1,1,1,1,1,1,1,1,0,1,1],[0,1,1,1,1,1,1,1,1,1,1,1],[1,0,0,0,0,1,0,1,1,0,0,0],[1,0,0,0,0,1,1,1,1,0,0,1],[1,0,0,0,1,0,1,0,0,0,0,1],[1,0,0,0,1,0,1,0,0,1,0,1],[1,0,0,0,1,1,0,1,1,0,1,0],[1,0,0,0,1,1,1,0,1,0,1,1],[1,0,0,1,0,1,1,1,1,0,0,0],[1,0,0,1,1,0,0,1,1,0,0,1],[1,0,0,1,1,0,1,1,0,0,0,1],[1,0,0,1,1,0,1,1,1,0,0,1],[1,0,0,1,1,1,1,0,0,0,0,1],[1,0,1,0,1,0,1,0,0,1,1,1],[1,0,1,0,1,1,1,1,0,0,1,1],[1,0,1,0,1,1,1,1,1,0,0,0],[1,0,1,0,1,1,1,1,1,1,1,1],[1,0,1,1,0,1,1,1,1,1,1,1],[1,0,1,1,1,0,0,0,1,0,1,1],[1,0,1,1,1,1,0,0,0,0,0,0],[1,0,1,1,1,1,0,0,1,0,0,0],[1,0,1,1,1,1,0,0,1,1,1,1],[1,0,1,1,1,1,1,0,1,0,0,0],[1,0,1,1,1,1,1,0,1,0,0,1],[1,0,1,1,1,1,1,0,1,1,1,1],[1,0,1,1,1,1,1,1,0,0,0,1],[1,0,1,1,1,1,1,1,1,1,1,0],[1,1,0,0,0,0,0,0,0,1,0,0],[1,1,0,0,0,0,0,0,0,1,0,1],[1,1,0,0,0,0,1,0,0,0,0,0],[1,1,0,0,0,1,1,1,1,1,1,1],[1,1,0,0,1,0,0,0,0,1,0,1],[1,1,0,0,1,0,0,1,0,1,0,1],[1,1,0,0,1,0,1,0,0,0,0,1],[1,1,0,0,1,0,1,0,0,0,1,1],[1,1,0,0,1,0,1,1,0,0,1,1],[1,1,0,0,1,1,0,1,0,0,1,1],[1,1,0,0,1,1,0,1,0,1,0,1],[1,1,0,0,1,1,0,1,0,1,1,1],[1,1,0,0,1,1,1,0,0,0,0,1],[1,1,0,0,1,1,1,1,0,1,0,1],[1,1,0,0,1,1,1,1,1,0,0,1],[1,1,0,0,1,1,1,1,1,0,1,1],[1,1,0,1,1,0,0,0,0,1,1,0],[1,1,0,1,1,1,1,1,1,0,1,0],[1,1,0,1,1,1,1,1,1,0,1,1],[1,1,0,1,1,1,1,1,1,1,1,1],[1,1,1,0,0,0,1,1,0,0,1,0],[1,1,1,0,0,1,0,1,1,1,1,1],[1,1,1,0,0,1,1,1,0,0,1,0],[1,1,1,0,0,1,1,1,0,1,1,1],[1,1,1,0,0,1,1,1,1,0,0,1],[1,1,1,0,0,1,1,1,1,1,0,1],[1,1,1,0,1,0,1,0,0,1,0,0],[1,1,1,0,1,1,0,1,1,0,0,1],[1,1,1,0,1,1,1,1,1,0,1,1],[1,1,1,0,1,1,1,1,1,1,1,0],[1,1,1,0,1,1,1,1,1,1,1,1],[1,1,1,1,0,1,1,1,0,1,1,1],[1,1,1,1,0,1,1,1,1,0,0,0],[1,1,1,1,0,1,1,1,1,0,0,1],[1,1,1,1,0,1,1,1,1,0,1,1],[1,1,1,1,0,1,1,1,1,1,0,0],[1,1,1,1,0,1,1,1,1,1,0,1],[1,1,1,1,0,1,1,1,1,1,1,0],[1,1,1,1,0,1,1,1,1,1,1,1],[1,1,1,1,1,0,1,0,0,1,1,1],[1,1,1,1,1,0,1,0,1,1,1,0],[1,1,1,1,1,0,1,1,0,0,0,1],[1,1,1,1,1,1,0,1,1,0,1,1],[1,1,1,1,1,1,0,1,1,1,1,1],[1,1,1,1,1,1,1,0,1,1,0,1],[1,1,1,1,1,1,1,0,1,1,1,1],[1,1,1,1,1,1,1,1,1,0,0,1],[1,1,1,1,1,1,1,1,1,0,1,0],[1,1,1,1,1,1,1,1,1,0,1,1],[1,1,1,1,1,1,1,1,1,1,0,0],[1,1,1,1,1,1,1,1,1,1,1,0],[1,1,1,1,1,1,1,1,1,1,1,1]],\"hovertemplate\":\"index=%{x}\\u003cbr\\u003eCantidad=%{y}\\u003cbr\\u003eAC3_batch8=%{customdata[0]}\\u003cbr\\u003eAC2_batch8=%{customdata[1]}\\u003cbr\\u003eBPIR3_batch8=%{customdata[2]}\\u003cbr\\u003eBPIR2_batch8=%{customdata[3]}\\u003cbr\\u003eAS3_batch8=%{customdata[4]}\\u003cbr\\u003eSAB2_batch8=%{customdata[5]}\\u003cbr\\u003eAS2_batch8=%{customdata[6]}\\u003cbr\\u003eSAB1_batch8=%{customdata[7]}\\u003cbr\\u003eSAB3_batch8=%{customdata[8]}\\u003cbr\\u003eAC1_batch8=%{customdata[9]}\\u003cbr\\u003eBPIR1_batch8=%{customdata[10]}\\u003cbr\\u003eAS1_batch8=%{customdata[11]}\\u003cextra\\u003e\\u003c\\u002fextra\\u003e\",\"legendgroup\":\"\",\"marker\":{\"color\":\"#636efa\",\"pattern\":{\"shape\":\"\"}},\"name\":\"\",\"offsetgroup\":\"\",\"orientation\":\"v\",\"showlegend\":false,\"textposition\":\"auto\",\"x\":[0,1,2,3,4,5,6,7,8,9,10,11,12,13,14,15,16,17,18,19,20,21,22,23,24,25,26,27,28,29,30,31,32,33,34,35,36,37,38,39,40,41,42,43,44,45,46,47,48,49,50,51,52,53,54,55,56,57,58,59,60,61,62,63,64,65,66,67,68,69,70,71,72,73,74,75,76,77,78,79,80,81,82,83,84,85,86,87,88,89,90,91,92,93,94,95,96,97,98,99,100,101,102,103,104,105,106,107,108,109,110,111,112,113,114,115,116,117,118,119,120,121,122,123,124,125,126,127,128,129,130,131,132,133,134,135,136,137,138,139,140,141,142,143,144,145,146,147,148,149,150,151,152,153,154,155,156,157,158,159,160,161,162,163,164,165,166,167,168,169,170,171,172,173,174,175,176,177,178,179,180,181,182,183,184,185,186,187,188,189,190,191,192,193,194,195,196,197,198,199,200,201,202,203,204,205,206,207,208,209,210,211,212,213,214,215,216,217,218,219,220,221,222,223,224,225,226,227,228,229,230,231,232,233,234,235,236,237,238,239,240,241,242,243,244,245,246],\"xaxis\":\"x\",\"y\":[2,26,7,11,2,1,3,1,1,3,1,1,19,7,5,1,1,5,1,1,3,12,3,2,1,1,1,1,1,7,1,1,1,2,5,2,1,1,17,1,1,3,1,1,1,1,1,1,1,1,1,3,1,2,1,6,1,12,2,1,1,1,1,1,1,1,1,1,1,3,2,2,1,1,1,5,1,1,2,1,1,1,1,1,1,1,1,1,1,1,1,3,3,2,1,1,1,1,3,5,7,3,1,5,2,3,5,3,1,2,1,1,1,4,5,1,1,3,1,3,4,2,2,1,1,1,1,1,2,1,1,1,1,1,1,1,1,1,1,1,1,1,2,1,2,1,2,1,1,1,2,3,1,1,1,1,1,5,1,2,3,1,1,2,1,1,2,2,8,3,1,1,1,1,1,1,1,1,1,1,1,1,1,1,1,1,1,1,1,1,3,1,1,1,1,1,2,1,1,1,1,1,1,1,2,1,1,1,1,1,1,1,1,1,1,1,1,1,1,1,1,1,1,3,1,1,1,1,1,2,1,1,1,4,2,1,1,1,1,1,1,3,2,15,1,4,35],\"yaxis\":\"y\",\"type\":\"bar\"}],                        {\"template\":{\"data\":{\"histogram2dcontour\":[{\"type\":\"histogram2dcontour\",\"colorbar\":{\"outlinewidth\":0,\"ticks\":\"\"},\"colorscale\":[[0.0,\"#0d0887\"],[0.1111111111111111,\"#46039f\"],[0.2222222222222222,\"#7201a8\"],[0.3333333333333333,\"#9c179e\"],[0.4444444444444444,\"#bd3786\"],[0.5555555555555556,\"#d8576b\"],[0.6666666666666666,\"#ed7953\"],[0.7777777777777778,\"#fb9f3a\"],[0.8888888888888888,\"#fdca26\"],[1.0,\"#f0f921\"]]}],\"choropleth\":[{\"type\":\"choropleth\",\"colorbar\":{\"outlinewidth\":0,\"ticks\":\"\"}}],\"histogram2d\":[{\"type\":\"histogram2d\",\"colorbar\":{\"outlinewidth\":0,\"ticks\":\"\"},\"colorscale\":[[0.0,\"#0d0887\"],[0.1111111111111111,\"#46039f\"],[0.2222222222222222,\"#7201a8\"],[0.3333333333333333,\"#9c179e\"],[0.4444444444444444,\"#bd3786\"],[0.5555555555555556,\"#d8576b\"],[0.6666666666666666,\"#ed7953\"],[0.7777777777777778,\"#fb9f3a\"],[0.8888888888888888,\"#fdca26\"],[1.0,\"#f0f921\"]]}],\"heatmap\":[{\"type\":\"heatmap\",\"colorbar\":{\"outlinewidth\":0,\"ticks\":\"\"},\"colorscale\":[[0.0,\"#0d0887\"],[0.1111111111111111,\"#46039f\"],[0.2222222222222222,\"#7201a8\"],[0.3333333333333333,\"#9c179e\"],[0.4444444444444444,\"#bd3786\"],[0.5555555555555556,\"#d8576b\"],[0.6666666666666666,\"#ed7953\"],[0.7777777777777778,\"#fb9f3a\"],[0.8888888888888888,\"#fdca26\"],[1.0,\"#f0f921\"]]}],\"heatmapgl\":[{\"type\":\"heatmapgl\",\"colorbar\":{\"outlinewidth\":0,\"ticks\":\"\"},\"colorscale\":[[0.0,\"#0d0887\"],[0.1111111111111111,\"#46039f\"],[0.2222222222222222,\"#7201a8\"],[0.3333333333333333,\"#9c179e\"],[0.4444444444444444,\"#bd3786\"],[0.5555555555555556,\"#d8576b\"],[0.6666666666666666,\"#ed7953\"],[0.7777777777777778,\"#fb9f3a\"],[0.8888888888888888,\"#fdca26\"],[1.0,\"#f0f921\"]]}],\"contourcarpet\":[{\"type\":\"contourcarpet\",\"colorbar\":{\"outlinewidth\":0,\"ticks\":\"\"}}],\"contour\":[{\"type\":\"contour\",\"colorbar\":{\"outlinewidth\":0,\"ticks\":\"\"},\"colorscale\":[[0.0,\"#0d0887\"],[0.1111111111111111,\"#46039f\"],[0.2222222222222222,\"#7201a8\"],[0.3333333333333333,\"#9c179e\"],[0.4444444444444444,\"#bd3786\"],[0.5555555555555556,\"#d8576b\"],[0.6666666666666666,\"#ed7953\"],[0.7777777777777778,\"#fb9f3a\"],[0.8888888888888888,\"#fdca26\"],[1.0,\"#f0f921\"]]}],\"surface\":[{\"type\":\"surface\",\"colorbar\":{\"outlinewidth\":0,\"ticks\":\"\"},\"colorscale\":[[0.0,\"#0d0887\"],[0.1111111111111111,\"#46039f\"],[0.2222222222222222,\"#7201a8\"],[0.3333333333333333,\"#9c179e\"],[0.4444444444444444,\"#bd3786\"],[0.5555555555555556,\"#d8576b\"],[0.6666666666666666,\"#ed7953\"],[0.7777777777777778,\"#fb9f3a\"],[0.8888888888888888,\"#fdca26\"],[1.0,\"#f0f921\"]]}],\"mesh3d\":[{\"type\":\"mesh3d\",\"colorbar\":{\"outlinewidth\":0,\"ticks\":\"\"}}],\"scatter\":[{\"fillpattern\":{\"fillmode\":\"overlay\",\"size\":10,\"solidity\":0.2},\"type\":\"scatter\"}],\"parcoords\":[{\"type\":\"parcoords\",\"line\":{\"colorbar\":{\"outlinewidth\":0,\"ticks\":\"\"}}}],\"scatterpolargl\":[{\"type\":\"scatterpolargl\",\"marker\":{\"colorbar\":{\"outlinewidth\":0,\"ticks\":\"\"}}}],\"bar\":[{\"error_x\":{\"color\":\"#2a3f5f\"},\"error_y\":{\"color\":\"#2a3f5f\"},\"marker\":{\"line\":{\"color\":\"#E5ECF6\",\"width\":0.5},\"pattern\":{\"fillmode\":\"overlay\",\"size\":10,\"solidity\":0.2}},\"type\":\"bar\"}],\"scattergeo\":[{\"type\":\"scattergeo\",\"marker\":{\"colorbar\":{\"outlinewidth\":0,\"ticks\":\"\"}}}],\"scatterpolar\":[{\"type\":\"scatterpolar\",\"marker\":{\"colorbar\":{\"outlinewidth\":0,\"ticks\":\"\"}}}],\"histogram\":[{\"marker\":{\"pattern\":{\"fillmode\":\"overlay\",\"size\":10,\"solidity\":0.2}},\"type\":\"histogram\"}],\"scattergl\":[{\"type\":\"scattergl\",\"marker\":{\"colorbar\":{\"outlinewidth\":0,\"ticks\":\"\"}}}],\"scatter3d\":[{\"type\":\"scatter3d\",\"line\":{\"colorbar\":{\"outlinewidth\":0,\"ticks\":\"\"}},\"marker\":{\"colorbar\":{\"outlinewidth\":0,\"ticks\":\"\"}}}],\"scattermapbox\":[{\"type\":\"scattermapbox\",\"marker\":{\"colorbar\":{\"outlinewidth\":0,\"ticks\":\"\"}}}],\"scatterternary\":[{\"type\":\"scatterternary\",\"marker\":{\"colorbar\":{\"outlinewidth\":0,\"ticks\":\"\"}}}],\"scattercarpet\":[{\"type\":\"scattercarpet\",\"marker\":{\"colorbar\":{\"outlinewidth\":0,\"ticks\":\"\"}}}],\"carpet\":[{\"aaxis\":{\"endlinecolor\":\"#2a3f5f\",\"gridcolor\":\"white\",\"linecolor\":\"white\",\"minorgridcolor\":\"white\",\"startlinecolor\":\"#2a3f5f\"},\"baxis\":{\"endlinecolor\":\"#2a3f5f\",\"gridcolor\":\"white\",\"linecolor\":\"white\",\"minorgridcolor\":\"white\",\"startlinecolor\":\"#2a3f5f\"},\"type\":\"carpet\"}],\"table\":[{\"cells\":{\"fill\":{\"color\":\"#EBF0F8\"},\"line\":{\"color\":\"white\"}},\"header\":{\"fill\":{\"color\":\"#C8D4E3\"},\"line\":{\"color\":\"white\"}},\"type\":\"table\"}],\"barpolar\":[{\"marker\":{\"line\":{\"color\":\"#E5ECF6\",\"width\":0.5},\"pattern\":{\"fillmode\":\"overlay\",\"size\":10,\"solidity\":0.2}},\"type\":\"barpolar\"}],\"pie\":[{\"automargin\":true,\"type\":\"pie\"}]},\"layout\":{\"autotypenumbers\":\"strict\",\"colorway\":[\"#636efa\",\"#EF553B\",\"#00cc96\",\"#ab63fa\",\"#FFA15A\",\"#19d3f3\",\"#FF6692\",\"#B6E880\",\"#FF97FF\",\"#FECB52\"],\"font\":{\"color\":\"#2a3f5f\"},\"hovermode\":\"closest\",\"hoverlabel\":{\"align\":\"left\"},\"paper_bgcolor\":\"white\",\"plot_bgcolor\":\"#E5ECF6\",\"polar\":{\"bgcolor\":\"#E5ECF6\",\"angularaxis\":{\"gridcolor\":\"white\",\"linecolor\":\"white\",\"ticks\":\"\"},\"radialaxis\":{\"gridcolor\":\"white\",\"linecolor\":\"white\",\"ticks\":\"\"}},\"ternary\":{\"bgcolor\":\"#E5ECF6\",\"aaxis\":{\"gridcolor\":\"white\",\"linecolor\":\"white\",\"ticks\":\"\"},\"baxis\":{\"gridcolor\":\"white\",\"linecolor\":\"white\",\"ticks\":\"\"},\"caxis\":{\"gridcolor\":\"white\",\"linecolor\":\"white\",\"ticks\":\"\"}},\"coloraxis\":{\"colorbar\":{\"outlinewidth\":0,\"ticks\":\"\"}},\"colorscale\":{\"sequential\":[[0.0,\"#0d0887\"],[0.1111111111111111,\"#46039f\"],[0.2222222222222222,\"#7201a8\"],[0.3333333333333333,\"#9c179e\"],[0.4444444444444444,\"#bd3786\"],[0.5555555555555556,\"#d8576b\"],[0.6666666666666666,\"#ed7953\"],[0.7777777777777778,\"#fb9f3a\"],[0.8888888888888888,\"#fdca26\"],[1.0,\"#f0f921\"]],\"sequentialminus\":[[0.0,\"#0d0887\"],[0.1111111111111111,\"#46039f\"],[0.2222222222222222,\"#7201a8\"],[0.3333333333333333,\"#9c179e\"],[0.4444444444444444,\"#bd3786\"],[0.5555555555555556,\"#d8576b\"],[0.6666666666666666,\"#ed7953\"],[0.7777777777777778,\"#fb9f3a\"],[0.8888888888888888,\"#fdca26\"],[1.0,\"#f0f921\"]],\"diverging\":[[0,\"#8e0152\"],[0.1,\"#c51b7d\"],[0.2,\"#de77ae\"],[0.3,\"#f1b6da\"],[0.4,\"#fde0ef\"],[0.5,\"#f7f7f7\"],[0.6,\"#e6f5d0\"],[0.7,\"#b8e186\"],[0.8,\"#7fbc41\"],[0.9,\"#4d9221\"],[1,\"#276419\"]]},\"xaxis\":{\"gridcolor\":\"white\",\"linecolor\":\"white\",\"ticks\":\"\",\"title\":{\"standoff\":15},\"zerolinecolor\":\"white\",\"automargin\":true,\"zerolinewidth\":2},\"yaxis\":{\"gridcolor\":\"white\",\"linecolor\":\"white\",\"ticks\":\"\",\"title\":{\"standoff\":15},\"zerolinecolor\":\"white\",\"automargin\":true,\"zerolinewidth\":2},\"scene\":{\"xaxis\":{\"backgroundcolor\":\"#E5ECF6\",\"gridcolor\":\"white\",\"linecolor\":\"white\",\"showbackground\":true,\"ticks\":\"\",\"zerolinecolor\":\"white\",\"gridwidth\":2},\"yaxis\":{\"backgroundcolor\":\"#E5ECF6\",\"gridcolor\":\"white\",\"linecolor\":\"white\",\"showbackground\":true,\"ticks\":\"\",\"zerolinecolor\":\"white\",\"gridwidth\":2},\"zaxis\":{\"backgroundcolor\":\"#E5ECF6\",\"gridcolor\":\"white\",\"linecolor\":\"white\",\"showbackground\":true,\"ticks\":\"\",\"zerolinecolor\":\"white\",\"gridwidth\":2}},\"shapedefaults\":{\"line\":{\"color\":\"#2a3f5f\"}},\"annotationdefaults\":{\"arrowcolor\":\"#2a3f5f\",\"arrowhead\":0,\"arrowwidth\":1},\"geo\":{\"bgcolor\":\"white\",\"landcolor\":\"#E5ECF6\",\"subunitcolor\":\"white\",\"showland\":true,\"showlakes\":true,\"lakecolor\":\"white\"},\"title\":{\"x\":0.05},\"mapbox\":{\"style\":\"light\"}}},\"xaxis\":{\"anchor\":\"y\",\"domain\":[0.0,1.0],\"title\":{\"text\":\"index\"},\"categoryorder\":\"total descending\"},\"yaxis\":{\"anchor\":\"x\",\"domain\":[0.0,1.0],\"title\":{\"text\":\"Cantidad\"}},\"legend\":{\"tracegroupgap\":0},\"title\":{\"text\":\"Intersecciones de conjuntos interactivo\"},\"barmode\":\"relative\"},                        {\"responsive\": true}                    ).then(function(){\n",
              "                            \n",
              "var gd = document.getElementById('34ee15bf-8e3b-4383-8720-3f0f5068ab77');\n",
              "var x = new MutationObserver(function (mutations, observer) {{\n",
              "        var display = window.getComputedStyle(gd).display;\n",
              "        if (!display || display === 'none') {{\n",
              "            console.log([gd, 'removed!']);\n",
              "            Plotly.purge(gd);\n",
              "            observer.disconnect();\n",
              "        }}\n",
              "}});\n",
              "\n",
              "// Listen for the removal of the full notebook cells\n",
              "var notebookContainer = gd.closest('#notebook-container');\n",
              "if (notebookContainer) {{\n",
              "    x.observe(notebookContainer, {childList: true});\n",
              "}}\n",
              "\n",
              "// Listen for the clearing of the current output cell\n",
              "var outputEl = gd.closest('.output');\n",
              "if (outputEl) {{\n",
              "    x.observe(outputEl, {childList: true});\n",
              "}}\n",
              "\n",
              "                        })                };                            </script>        </div>\n",
              "</body>\n",
              "</html>"
            ]
          },
          "metadata": {}
        }
      ]
    }
  ]
}